{
 "cells": [
  {
   "cell_type": "code",
   "execution_count": 28,
   "metadata": {},
   "outputs": [],
   "source": [
    "import numpy as np\n",
    "import pandas as pd\n",
    "from matplotlib import pyplot as plt\n",
    "import seaborn as sns\n",
    "df= pd.read_excel('../dataset/WorkPlaceSatisfactionSurveyData.xlsx')\n",
    "df= df.drop(['number', 'healtcare', 'holidayCabin', 'gym', 'muscleCare'], axis=1)"
   ]
  },
  {
   "cell_type": "code",
   "execution_count": null,
   "metadata": {},
   "outputs": [],
   "source": [
    "df.describe()"
   ]
  },
  {
   "cell_type": "code",
   "execution_count": null,
   "metadata": {},
   "outputs": [],
   "source": [
    "df.head()"
   ]
  },
  {
   "cell_type": "code",
   "execution_count": null,
   "metadata": {},
   "outputs": [],
   "source": [
    "df.info()\n"
   ]
  },
  {
   "cell_type": "code",
   "execution_count": null,
   "metadata": {},
   "outputs": [],
   "source": [
    "df1=pd.DataFrame(df)\n",
    "\n",
    "gender_percentile = df1['gender'].value_counts(normalize=True) * 100\n",
    "\n",
    "gender_pay = df1.groupby('gender')['salary'].mean()\n",
    "\n",
    "gender_management = pd.crosstab(df1['gender'], df1['sat_management'])\n",
    "gender_management.columns=['dislikes', 'somewhat dislikes', 'neutral', 'somewhat positive', 'positive']\n",
    "gender_management.index = ['Male', 'Female']\n",
    "\n",
    "gender_management\n",
    "gender_percentile\n",
    "gender_pay"
   ]
  },
  {
   "cell_type": "code",
   "execution_count": null,
   "metadata": {},
   "outputs": [],
   "source": [
    "grouped_df = df.groupby('gender')[['salary']].mean()\n",
    "grouped_df\n"
   ]
  },
  {
   "cell_type": "code",
   "execution_count": null,
   "metadata": {},
   "outputs": [],
   "source": [
    "df2=pd.DataFrame(df)\n",
    "bins = [0,10,20,30,40,50,60,70,80,90]\n",
    "labels= ['0-10', '11-20', '21-30', '31-40', '41-50', '51-60', '61-70', '71-80', '81-90']\n",
    "df2['age_group'] = pd.cut(df2['age'], bins=bins, labels=labels, right=True, include_lowest=True)\n",
    "age_group_crosstab = pd.crosstab(index=df2['age_group'], columns='count')\n",
    "##df2=pd.crosstab(df2['age_group'],'sat_management')\n",
    "age_group_crosstab\n"
   ]
  },
  {
   "cell_type": "code",
   "execution_count": null,
   "metadata": {},
   "outputs": [],
   "source": [
    "df2['service_group'] = pd.cut(df2['years_of_service'], bins=bins, labels=labels, right=True, include_lowest=True)\n",
    "age_service_crosstab = pd.crosstab(index=df2['age_group'], columns=df2['service_group'], margins=True)\n",
    "age_service_crosstab"
   ]
  },
  {
   "cell_type": "code",
   "execution_count": 36,
   "metadata": {},
   "outputs": [],
   "source": [
    "#SAMILLE KOLUMNIT (FAMILY JA YEARS_OF_SERVICE) MINÄ IIRO OTAN (EDUCATION JA SALARY)\n",
    "#oisko mitään jos df1=gender, df2=ikä, df3=family, df4=education jne."
   ]
  },
  {
   "cell_type": "markdown",
   "metadata": {},
   "source": []
  },
  {
   "cell_type": "code",
   "execution_count": null,
   "metadata": {},
   "outputs": [],
   "source": [
    "df4=pd.crosstab(df['education'], 'Count')\n",
    "df4.index=['Esiopetus', 'Perusopetus', 'Toisen asteen koulutus', 'Korkeakoulutus']\n",
    "df4['%'] = df4['Count'] / df4['Count'].sum() * 100\n",
    "\n",
    "df4.columns.name=''\n",
    "df4"
   ]
  },
  {
   "cell_type": "code",
   "execution_count": null,
   "metadata": {},
   "outputs": [],
   "source": [
    "df4.plot.barh()\n",
    "plt.title('EDUCTAION')\n",
    "plt.xlabel('')\n",
    "plt.ylabel('Educations')\n"
   ]
  },
  {
   "cell_type": "code",
   "execution_count": null,
   "metadata": {},
   "outputs": [],
   "source": [
    "#Total number of each education level\n",
    "names = ['Esiopetus', 'Perusopetus', 'Toisen asteen opetus', 'Korkeakouluopetus']\n",
    "df4=[27,30,22,2]\n",
    "\n",
    "# Create a pieplot\n",
    "plt.pie(df4)\n",
    "\n",
    "# Give color names\n",
    "plt.pie(df4, labels=names, colors=['red','orange','blue','lightgreen'])\n",
    "\n",
    "# add a circle at the center to transform it in a donut chart\n",
    "my_circle=plt.Circle( (0,0), 0.7, color='white')\n",
    "p=plt.gcf()\n",
    "p.gca().add_artist(my_circle)\n",
    "\n",
    "plt.show()"
   ]
  },
  {
   "cell_type": "code",
   "execution_count": null,
   "metadata": {},
   "outputs": [],
   "source": [
    "df6=pd.crosstab(df['salary'], 'Count')\n",
    "df6['%'] = df6['Count'] / df6['Count'].sum() * 100\n",
    "\n",
    "df6.columns.name=''\n",
    "df6"
   ]
  },
  {
   "cell_type": "code",
   "execution_count": null,
   "metadata": {},
   "outputs": [],
   "source": [
    "colors = ['#9b59b6', '#3498db']\n",
    " \n",
    "# Create data frame with randomly selected x and y positions\n",
    "df6= pd.DataFrame(np.random.random((100,2)), columns=[\"x\",\"y\"])\n",
    " \n",
    "# Add a column: the color depends on x and y values, but you can use any function you want\n",
    "is_selected_dot = (df['x']>7000) & (df['y']>7000)\n",
    "df6['color']= np.where(is_selected_dot==True , colors[0], colors[1])\n",
    " \n",
    "# plot\n",
    "sns.set_style(\"darkgrid\")\n",
    "sns.scatterplot(\n",
    "   data=df6,\n",
    "   x=\"x\",\n",
    "   y=\"y\",\n",
    "   color=df['color'],\n",
    "   s=400,\n",
    "   alpha=0.8,\n",
    ")\n",
    "\n",
    "plt.show()"
   ]
  }
 ],
 "metadata": {
  "kernelspec": {
   "display_name": "Python 3",
   "language": "python",
   "name": "python3"
  },
  "language_info": {
   "codemirror_mode": {
    "name": "ipython",
    "version": 3
   },
   "file_extension": ".py",
   "mimetype": "text/x-python",
   "name": "python",
   "nbconvert_exporter": "python",
   "pygments_lexer": "ipython3",
   "version": "3.12.5"
  }
 },
 "nbformat": 4,
 "nbformat_minor": 2
}
